{
 "cells": [
  {
   "cell_type": "markdown",
   "id": "08a0cc77",
   "metadata": {},
   "source": [
    "# Title: Personalized Medical Recommendation System with Machine Learning"
   ]
  },
  {
   "cell_type": "markdown",
   "id": "016f7559",
   "metadata": {},
   "source": [
    "## Description: \n",
    "    Welcome to our cutting-edge Personalized Medical Recommendation System, a powerful platform designed to assist users and health profession in undrstanding and managing the health related issue. Leveraging the capabilities of Machine Learning, Our system analyzes user-input symptoms to predict potential diseases accurately"
   ]
  },
  {
   "cell_type": "markdown",
   "id": "0c2c5f26",
   "metadata": {},
   "source": [
    "## load dataset & tools"
   ]
  },
  {
   "cell_type": "code",
   "execution_count": 1,
   "id": "1491b005",
   "metadata": {},
   "outputs": [],
   "source": [
    "import pandas as pd"
   ]
  },
  {
   "cell_type": "code",
   "execution_count": 2,
   "id": "1de6936d",
   "metadata": {},
   "outputs": [],
   "source": [
    "dataset=pd.read_csv(\"datasets/Training.csv\")"
   ]
  },
  {
   "cell_type": "code",
   "execution_count": 3,
   "id": "58e60a31",
   "metadata": {},
   "outputs": [
    {
     "data": {
      "text/html": [
       "<div>\n",
       "<style scoped>\n",
       "    .dataframe tbody tr th:only-of-type {\n",
       "        vertical-align: middle;\n",
       "    }\n",
       "\n",
       "    .dataframe tbody tr th {\n",
       "        vertical-align: top;\n",
       "    }\n",
       "\n",
       "    .dataframe thead th {\n",
       "        text-align: right;\n",
       "    }\n",
       "</style>\n",
       "<table border=\"1\" class=\"dataframe\">\n",
       "  <thead>\n",
       "    <tr style=\"text-align: right;\">\n",
       "      <th></th>\n",
       "      <th>itching</th>\n",
       "      <th>skin_rash</th>\n",
       "      <th>nodal_skin_eruptions</th>\n",
       "      <th>continuous_sneezing</th>\n",
       "      <th>shivering</th>\n",
       "      <th>chills</th>\n",
       "      <th>joint_pain</th>\n",
       "      <th>stomach_pain</th>\n",
       "      <th>acidity</th>\n",
       "      <th>ulcers_on_tongue</th>\n",
       "      <th>...</th>\n",
       "      <th>blackheads</th>\n",
       "      <th>scurring</th>\n",
       "      <th>skin_peeling</th>\n",
       "      <th>silver_like_dusting</th>\n",
       "      <th>small_dents_in_nails</th>\n",
       "      <th>inflammatory_nails</th>\n",
       "      <th>blister</th>\n",
       "      <th>red_sore_around_nose</th>\n",
       "      <th>yellow_crust_ooze</th>\n",
       "      <th>prognosis</th>\n",
       "    </tr>\n",
       "  </thead>\n",
       "  <tbody>\n",
       "    <tr>\n",
       "      <th>0</th>\n",
       "      <td>1</td>\n",
       "      <td>1</td>\n",
       "      <td>1</td>\n",
       "      <td>0</td>\n",
       "      <td>0</td>\n",
       "      <td>0</td>\n",
       "      <td>0</td>\n",
       "      <td>0</td>\n",
       "      <td>0</td>\n",
       "      <td>0</td>\n",
       "      <td>...</td>\n",
       "      <td>0</td>\n",
       "      <td>0</td>\n",
       "      <td>0</td>\n",
       "      <td>0</td>\n",
       "      <td>0</td>\n",
       "      <td>0</td>\n",
       "      <td>0</td>\n",
       "      <td>0</td>\n",
       "      <td>0</td>\n",
       "      <td>Fungal infection</td>\n",
       "    </tr>\n",
       "    <tr>\n",
       "      <th>1</th>\n",
       "      <td>0</td>\n",
       "      <td>1</td>\n",
       "      <td>1</td>\n",
       "      <td>0</td>\n",
       "      <td>0</td>\n",
       "      <td>0</td>\n",
       "      <td>0</td>\n",
       "      <td>0</td>\n",
       "      <td>0</td>\n",
       "      <td>0</td>\n",
       "      <td>...</td>\n",
       "      <td>0</td>\n",
       "      <td>0</td>\n",
       "      <td>0</td>\n",
       "      <td>0</td>\n",
       "      <td>0</td>\n",
       "      <td>0</td>\n",
       "      <td>0</td>\n",
       "      <td>0</td>\n",
       "      <td>0</td>\n",
       "      <td>Fungal infection</td>\n",
       "    </tr>\n",
       "    <tr>\n",
       "      <th>2</th>\n",
       "      <td>1</td>\n",
       "      <td>0</td>\n",
       "      <td>1</td>\n",
       "      <td>0</td>\n",
       "      <td>0</td>\n",
       "      <td>0</td>\n",
       "      <td>0</td>\n",
       "      <td>0</td>\n",
       "      <td>0</td>\n",
       "      <td>0</td>\n",
       "      <td>...</td>\n",
       "      <td>0</td>\n",
       "      <td>0</td>\n",
       "      <td>0</td>\n",
       "      <td>0</td>\n",
       "      <td>0</td>\n",
       "      <td>0</td>\n",
       "      <td>0</td>\n",
       "      <td>0</td>\n",
       "      <td>0</td>\n",
       "      <td>Fungal infection</td>\n",
       "    </tr>\n",
       "    <tr>\n",
       "      <th>3</th>\n",
       "      <td>1</td>\n",
       "      <td>1</td>\n",
       "      <td>0</td>\n",
       "      <td>0</td>\n",
       "      <td>0</td>\n",
       "      <td>0</td>\n",
       "      <td>0</td>\n",
       "      <td>0</td>\n",
       "      <td>0</td>\n",
       "      <td>0</td>\n",
       "      <td>...</td>\n",
       "      <td>0</td>\n",
       "      <td>0</td>\n",
       "      <td>0</td>\n",
       "      <td>0</td>\n",
       "      <td>0</td>\n",
       "      <td>0</td>\n",
       "      <td>0</td>\n",
       "      <td>0</td>\n",
       "      <td>0</td>\n",
       "      <td>Fungal infection</td>\n",
       "    </tr>\n",
       "    <tr>\n",
       "      <th>4</th>\n",
       "      <td>1</td>\n",
       "      <td>1</td>\n",
       "      <td>1</td>\n",
       "      <td>0</td>\n",
       "      <td>0</td>\n",
       "      <td>0</td>\n",
       "      <td>0</td>\n",
       "      <td>0</td>\n",
       "      <td>0</td>\n",
       "      <td>0</td>\n",
       "      <td>...</td>\n",
       "      <td>0</td>\n",
       "      <td>0</td>\n",
       "      <td>0</td>\n",
       "      <td>0</td>\n",
       "      <td>0</td>\n",
       "      <td>0</td>\n",
       "      <td>0</td>\n",
       "      <td>0</td>\n",
       "      <td>0</td>\n",
       "      <td>Fungal infection</td>\n",
       "    </tr>\n",
       "  </tbody>\n",
       "</table>\n",
       "<p>5 rows × 133 columns</p>\n",
       "</div>"
      ],
      "text/plain": [
       "   itching  skin_rash  nodal_skin_eruptions  continuous_sneezing  shivering  \\\n",
       "0        1          1                     1                    0          0   \n",
       "1        0          1                     1                    0          0   \n",
       "2        1          0                     1                    0          0   \n",
       "3        1          1                     0                    0          0   \n",
       "4        1          1                     1                    0          0   \n",
       "\n",
       "   chills  joint_pain  stomach_pain  acidity  ulcers_on_tongue  ...  \\\n",
       "0       0           0             0        0                 0  ...   \n",
       "1       0           0             0        0                 0  ...   \n",
       "2       0           0             0        0                 0  ...   \n",
       "3       0           0             0        0                 0  ...   \n",
       "4       0           0             0        0                 0  ...   \n",
       "\n",
       "   blackheads  scurring  skin_peeling  silver_like_dusting  \\\n",
       "0           0         0             0                    0   \n",
       "1           0         0             0                    0   \n",
       "2           0         0             0                    0   \n",
       "3           0         0             0                    0   \n",
       "4           0         0             0                    0   \n",
       "\n",
       "   small_dents_in_nails  inflammatory_nails  blister  red_sore_around_nose  \\\n",
       "0                     0                   0        0                     0   \n",
       "1                     0                   0        0                     0   \n",
       "2                     0                   0        0                     0   \n",
       "3                     0                   0        0                     0   \n",
       "4                     0                   0        0                     0   \n",
       "\n",
       "   yellow_crust_ooze         prognosis  \n",
       "0                  0  Fungal infection  \n",
       "1                  0  Fungal infection  \n",
       "2                  0  Fungal infection  \n",
       "3                  0  Fungal infection  \n",
       "4                  0  Fungal infection  \n",
       "\n",
       "[5 rows x 133 columns]"
      ]
     },
     "execution_count": 3,
     "metadata": {},
     "output_type": "execute_result"
    }
   ],
   "source": [
    "dataset.head()"
   ]
  },
  {
   "cell_type": "code",
   "execution_count": 4,
   "id": "8f759e3a",
   "metadata": {},
   "outputs": [
    {
     "data": {
      "text/plain": [
       "(4920, 133)"
      ]
     },
     "execution_count": 4,
     "metadata": {},
     "output_type": "execute_result"
    }
   ],
   "source": [
    "dataset.shape"
   ]
  },
  {
   "cell_type": "code",
   "execution_count": 7,
   "id": "244cd857",
   "metadata": {},
   "outputs": [
    {
     "data": {
      "text/plain": [
       "41"
      ]
     },
     "execution_count": 7,
     "metadata": {},
     "output_type": "execute_result"
    }
   ],
   "source": [
    "len(dataset['prognosis'].unique())"
   ]
  },
  {
   "cell_type": "code",
   "execution_count": 8,
   "id": "916b8248",
   "metadata": {},
   "outputs": [
    {
     "data": {
      "text/plain": [
       "array(['Fungal infection', 'Allergy', 'GERD', 'Chronic cholestasis',\n",
       "       'Drug Reaction', 'Peptic ulcer diseae', 'AIDS', 'Diabetes ',\n",
       "       'Gastroenteritis', 'Bronchial Asthma', 'Hypertension ', 'Migraine',\n",
       "       'Cervical spondylosis', 'Paralysis (brain hemorrhage)', 'Jaundice',\n",
       "       'Malaria', 'Chicken pox', 'Dengue', 'Typhoid', 'hepatitis A',\n",
       "       'Hepatitis B', 'Hepatitis C', 'Hepatitis D', 'Hepatitis E',\n",
       "       'Alcoholic hepatitis', 'Tuberculosis', 'Common Cold', 'Pneumonia',\n",
       "       'Dimorphic hemmorhoids(piles)', 'Heart attack', 'Varicose veins',\n",
       "       'Hypothyroidism', 'Hyperthyroidism', 'Hypoglycemia',\n",
       "       'Osteoarthristis', 'Arthritis',\n",
       "       '(vertigo) Paroymsal  Positional Vertigo', 'Acne',\n",
       "       'Urinary tract infection', 'Psoriasis', 'Impetigo'], dtype=object)"
      ]
     },
     "execution_count": 8,
     "metadata": {},
     "output_type": "execute_result"
    }
   ],
   "source": [
    "dataset['prognosis'].unique()"
   ]
  },
  {
   "cell_type": "markdown",
   "id": "e619f137",
   "metadata": {},
   "source": [
    "## train test split"
   ]
  },
  {
   "cell_type": "code",
   "execution_count": 11,
   "id": "23af347a",
   "metadata": {},
   "outputs": [],
   "source": [
    "from sklearn.model_selection import train_test_split\n",
    "from sklearn.preprocessing import LabelEncoder"
   ]
  },
  {
   "cell_type": "code",
   "execution_count": 14,
   "id": "8b6d0668",
   "metadata": {},
   "outputs": [],
   "source": [
    "X=dataset.drop(\"prognosis\", axis=1)\n",
    "y=dataset[\"prognosis\"]"
   ]
  },
  {
   "cell_type": "code",
   "execution_count": 24,
   "id": "f9b00b6d",
   "metadata": {},
   "outputs": [],
   "source": [
    "X_train,X_test,y_train,y_test=train_test_split(X,Y, test_size=0.3, random_state=20)"
   ]
  },
  {
   "cell_type": "code",
   "execution_count": 25,
   "id": "b25d3b46",
   "metadata": {},
   "outputs": [
    {
     "data": {
      "text/plain": [
       "((3444, 132), (1476, 132), (3444,), (1476,))"
      ]
     },
     "execution_count": 25,
     "metadata": {},
     "output_type": "execute_result"
    }
   ],
   "source": [
    "X_train.shape,X_test.shape, y_train.shape, y_test.shape"
   ]
  },
  {
   "cell_type": "code",
   "execution_count": 26,
   "id": "45025702",
   "metadata": {},
   "outputs": [],
   "source": [
    "le=LabelEncoder()\n",
    "le.fit(y)\n",
    "Y=le.transform(y)"
   ]
  },
  {
   "cell_type": "code",
   "execution_count": 27,
   "id": "bc967bb4",
   "metadata": {},
   "outputs": [
    {
     "data": {
      "text/plain": [
       "array([15, 15, 15, ..., 38, 35, 27])"
      ]
     },
     "execution_count": 27,
     "metadata": {},
     "output_type": "execute_result"
    }
   ],
   "source": [
    "Y"
   ]
  },
  {
   "cell_type": "markdown",
   "id": "003580ee",
   "metadata": {},
   "source": [
    "## Training top 5 models"
   ]
  },
  {
   "cell_type": "code",
   "execution_count": 36,
   "id": "d726ae82",
   "metadata": {},
   "outputs": [
    {
     "name": "stdout",
     "output_type": "stream",
     "text": [
      "SVC : SVC(kernel='linear')\n",
      "SVC accuracy:1.0\n",
      "SVC Confusion Matrix:\n",
      "[[40, 0, 0,..., 0, 0, 0],\n",
      " [ 0,43, 0,..., 0, 0, 0],\n",
      " [ 0, 0,28,..., 0, 0, 0],\n",
      " ...,\n",
      " [ 0, 0, 0,...,34, 0, 0],\n",
      " [ 0, 0, 0,..., 0,41, 0],\n",
      " [ 0, 0, 0,..., 0, 0,31]]\n",
      "RandomForest : RandomForestClassifier(random_state=42)\n",
      "RandomForest accuracy:1.0\n",
      "RandomForest Confusion Matrix:\n",
      "[[40, 0, 0,..., 0, 0, 0],\n",
      " [ 0,43, 0,..., 0, 0, 0],\n",
      " [ 0, 0,28,..., 0, 0, 0],\n",
      " ...,\n",
      " [ 0, 0, 0,...,34, 0, 0],\n",
      " [ 0, 0, 0,..., 0,41, 0],\n",
      " [ 0, 0, 0,..., 0, 0,31]]\n",
      "GradientBoosting : GradientBoostingClassifier(random_state=42)\n",
      "GradientBoosting accuracy:1.0\n",
      "GradientBoosting Confusion Matrix:\n",
      "[[40, 0, 0,..., 0, 0, 0],\n",
      " [ 0,43, 0,..., 0, 0, 0],\n",
      " [ 0, 0,28,..., 0, 0, 0],\n",
      " ...,\n",
      " [ 0, 0, 0,...,34, 0, 0],\n",
      " [ 0, 0, 0,..., 0,41, 0],\n",
      " [ 0, 0, 0,..., 0, 0,31]]\n",
      "KNeighbors : KNeighborsClassifier()\n",
      "KNeighbors accuracy:1.0\n",
      "KNeighbors Confusion Matrix:\n",
      "[[40, 0, 0,..., 0, 0, 0],\n",
      " [ 0,43, 0,..., 0, 0, 0],\n",
      " [ 0, 0,28,..., 0, 0, 0],\n",
      " ...,\n",
      " [ 0, 0, 0,...,34, 0, 0],\n",
      " [ 0, 0, 0,..., 0,41, 0],\n",
      " [ 0, 0, 0,..., 0, 0,31]]\n",
      "MultinomialNB : MultinomialNB()\n",
      "MultinomialNB accuracy:1.0\n",
      "MultinomialNB Confusion Matrix:\n",
      "[[40, 0, 0,..., 0, 0, 0],\n",
      " [ 0,43, 0,..., 0, 0, 0],\n",
      " [ 0, 0,28,..., 0, 0, 0],\n",
      " ...,\n",
      " [ 0, 0, 0,...,34, 0, 0],\n",
      " [ 0, 0, 0,..., 0,41, 0],\n",
      " [ 0, 0, 0,..., 0, 0,31]]\n"
     ]
    },
    {
     "name": "stderr",
     "output_type": "stream",
     "text": [
      "/opt/anaconda3/lib/python3.8/site-packages/sklearn/neighbors/_classification.py:228: FutureWarning: Unlike other reduction functions (e.g. `skew`, `kurtosis`), the default behavior of `mode` typically preserves the axis it acts along. In SciPy 1.11.0, this behavior will change: the default value of `keepdims` will become False, the `axis` over which the statistic is taken will be eliminated, and the value None will no longer be accepted. Set `keepdims` to True or False to avoid this warning.\n",
      "  mode, _ = stats.mode(_y[neigh_ind, k], axis=1)\n"
     ]
    }
   ],
   "source": [
    "from sklearn.datasets import make_classification\n",
    "from sklearn.svm import SVC \n",
    "from sklearn.ensemble import RandomForestClassifier, GradientBoostingClassifier\n",
    "from sklearn.neighbors import KNeighborsClassifier\n",
    "from sklearn.naive_bayes import MultinomialNB  \n",
    "\n",
    "from sklearn.metrics import accuracy_score, confusion_matrix\n",
    "import numpy as np\n",
    "\n",
    "# Create a dictonary to store models\n",
    "models={\n",
    "    \"SVC\":SVC(kernel=\"linear\"),\n",
    "    \"RandomForest\": RandomForestClassifier(n_estimators=100,random_state=42),\n",
    "    \"GradientBoosting\":GradientBoostingClassifier(n_estimators=100,random_state=42),\n",
    "    \"KNeighbors\":KNeighborsClassifier(n_neighbors=5),\n",
    "    \"MultinomialNB\":MultinomialNB()\n",
    "}\n",
    "\n",
    "for model_name, model in models.items():\n",
    "    #train model\n",
    "    model.fit(X_train, y_train)\n",
    "    \n",
    "    # test model\n",
    "    predictions=model.predict(X_test)\n",
    "    \n",
    "    # calculate accuracy\n",
    "    accuracy=accuracy_score(y_test, predictions)\n",
    "    # calculate the confusion matric\n",
    "    cm=confusion_matrix(y_test, predictions)\n",
    "    print(model_name, \":\", model)\n",
    "    print(f\"{model_name} accuracy:{accuracy}\")\n",
    "    print(f\"{model_name} Confusion Matrix:\")\n",
    "    print(np.array2string(cm, separator=','))"
   ]
  },
  {
   "cell_type": "markdown",
   "id": "16a3bf3a",
   "metadata": {},
   "source": [
    "## Single prediction"
   ]
  },
  {
   "cell_type": "code",
   "execution_count": 37,
   "id": "5aa22eff",
   "metadata": {},
   "outputs": [
    {
     "data": {
      "text/plain": [
       "1.0"
      ]
     },
     "execution_count": 37,
     "metadata": {},
     "output_type": "execute_result"
    }
   ],
   "source": [
    "svc=SVC(kernel=\"linear\")\n",
    "svc.fit(X_train, y_train)\n",
    "ypred=svc.predict(X_test)\n",
    "accuracy_score(y_test,ypred)"
   ]
  },
  {
   "cell_type": "markdown",
   "id": "d2b23029",
   "metadata": {},
   "source": [
    "## Save the model"
   ]
  },
  {
   "cell_type": "code",
   "execution_count": 45,
   "id": "790a3a3e",
   "metadata": {},
   "outputs": [],
   "source": [
    "import pickle\n",
    "pickle.dump(svc,open(\"models/svc.pkl\",\"wb\"))"
   ]
  },
  {
   "cell_type": "code",
   "execution_count": 46,
   "id": "1333e1a1",
   "metadata": {},
   "outputs": [],
   "source": [
    "#load model\n",
    "svc=pickle.load(open(\"models/svc.pkl\",'rb'))"
   ]
  },
  {
   "cell_type": "code",
   "execution_count": 47,
   "id": "5ead8b32",
   "metadata": {},
   "outputs": [],
   "source": [
    "predictions = svc.predict(X_test)\n"
   ]
  },
  {
   "cell_type": "code",
   "execution_count": 48,
   "id": "bd23f2b1",
   "metadata": {},
   "outputs": [
    {
     "data": {
      "text/plain": [
       "array([40,  6, 16, ...,  8, 10, 33])"
      ]
     },
     "execution_count": 48,
     "metadata": {},
     "output_type": "execute_result"
    }
   ],
   "source": [
    "predictions"
   ]
  },
  {
   "cell_type": "code",
   "execution_count": 52,
   "id": "e66c3390",
   "metadata": {},
   "outputs": [
    {
     "name": "stderr",
     "output_type": "stream",
     "text": [
      "/opt/anaconda3/lib/python3.8/site-packages/sklearn/base.py:450: UserWarning: X does not have valid feature names, but SVC was fitted with feature names\n",
      "  warnings.warn(\n"
     ]
    },
    {
     "data": {
      "text/plain": [
       "array([40])"
      ]
     },
     "execution_count": 52,
     "metadata": {},
     "output_type": "execute_result"
    }
   ],
   "source": [
    "svc.predict(X_test.iloc[0].values.reshape(1,-1))"
   ]
  },
  {
   "cell_type": "code",
   "execution_count": 55,
   "id": "2f2dbe64",
   "metadata": {},
   "outputs": [
    {
     "data": {
      "text/plain": [
       "40"
      ]
     },
     "execution_count": 55,
     "metadata": {},
     "output_type": "execute_result"
    }
   ],
   "source": [
    "y_test[0]"
   ]
  },
  {
   "cell_type": "code",
   "execution_count": 57,
   "id": "927a28dd",
   "metadata": {},
   "outputs": [
    {
     "name": "stdout",
     "output_type": "stream",
     "text": [
      "Predicted Label: [40]\n",
      "Actual Label: 40\n"
     ]
    },
    {
     "name": "stderr",
     "output_type": "stream",
     "text": [
      "/opt/anaconda3/lib/python3.8/site-packages/sklearn/base.py:450: UserWarning: X does not have valid feature names, but SVC was fitted with feature names\n",
      "  warnings.warn(\n"
     ]
    }
   ],
   "source": [
    "# Test 1\n",
    "print(\"Predicted Label:\", svc.predict(X_test.iloc[0].values.reshape(1, -1)))\n",
    "print(\"Actual Label:\", y_test[0])\n"
   ]
  },
  {
   "cell_type": "code",
   "execution_count": 58,
   "id": "8731a192",
   "metadata": {},
   "outputs": [
    {
     "name": "stdout",
     "output_type": "stream",
     "text": [
      "Predicted Label: [20]\n",
      "Actual Label: 20\n"
     ]
    },
    {
     "name": "stderr",
     "output_type": "stream",
     "text": [
      "/opt/anaconda3/lib/python3.8/site-packages/sklearn/base.py:450: UserWarning: X does not have valid feature names, but SVC was fitted with feature names\n",
      "  warnings.warn(\n"
     ]
    }
   ],
   "source": [
    "# Test 2\n",
    "print(\"Predicted Label:\", svc.predict(X_test.iloc[10].values.reshape(1, -1)))\n",
    "print(\"Actual Label:\", y_test[10])\n"
   ]
  },
  {
   "cell_type": "markdown",
   "id": "74a4f546",
   "metadata": {},
   "source": [
    "## Recommendation System and Prediction"
   ]
  },
  {
   "cell_type": "markdown",
   "id": "85f31495",
   "metadata": {},
   "source": [
    "### Load database use the logic for recommendatons"
   ]
  },
  {
   "cell_type": "code",
   "execution_count": 107,
   "id": "7596988c",
   "metadata": {},
   "outputs": [],
   "source": [
    "sym_des=pd.read_csv('datasets/symtoms_df.csv')\n",
    "precautions=pd.read_csv(\"datasets/precautions_df.csv\")\n",
    "workout=pd.read_csv(\"datasets/workout_df.csv\")\n",
    "description=pd.read_csv(\"datasets/description.csv\")\n",
    "medications=pd.read_csv(\"datasets/medications.csv\")\n",
    "diets=pd.read_csv(\"datasets/diets.csv\")"
   ]
  },
  {
   "cell_type": "code",
   "execution_count": 70,
   "id": "9e5c68d9",
   "metadata": {},
   "outputs": [
    {
     "data": {
      "text/html": [
       "<div>\n",
       "<style scoped>\n",
       "    .dataframe tbody tr th:only-of-type {\n",
       "        vertical-align: middle;\n",
       "    }\n",
       "\n",
       "    .dataframe tbody tr th {\n",
       "        vertical-align: top;\n",
       "    }\n",
       "\n",
       "    .dataframe thead th {\n",
       "        text-align: right;\n",
       "    }\n",
       "</style>\n",
       "<table border=\"1\" class=\"dataframe\">\n",
       "  <thead>\n",
       "    <tr style=\"text-align: right;\">\n",
       "      <th></th>\n",
       "      <th>Disease</th>\n",
       "      <th>Diet</th>\n",
       "    </tr>\n",
       "  </thead>\n",
       "  <tbody>\n",
       "    <tr>\n",
       "      <th>0</th>\n",
       "      <td>Fungal infection</td>\n",
       "      <td>['Antifungal Diet', 'Probiotics', 'Garlic', 'C...</td>\n",
       "    </tr>\n",
       "    <tr>\n",
       "      <th>1</th>\n",
       "      <td>Allergy</td>\n",
       "      <td>['Elimination Diet', 'Omega-3-rich foods', 'Vi...</td>\n",
       "    </tr>\n",
       "    <tr>\n",
       "      <th>2</th>\n",
       "      <td>GERD</td>\n",
       "      <td>['Low-Acid Diet', 'Fiber-rich foods', 'Ginger'...</td>\n",
       "    </tr>\n",
       "    <tr>\n",
       "      <th>3</th>\n",
       "      <td>Chronic cholestasis</td>\n",
       "      <td>['Low-Fat Diet', 'High-Fiber Diet', 'Lean prot...</td>\n",
       "    </tr>\n",
       "    <tr>\n",
       "      <th>4</th>\n",
       "      <td>Drug Reaction</td>\n",
       "      <td>['Antihistamine Diet', 'Omega-3-rich foods', '...</td>\n",
       "    </tr>\n",
       "    <tr>\n",
       "      <th>5</th>\n",
       "      <td>Peptic ulcer disease</td>\n",
       "      <td>['Low-Acid Diet', 'Fiber-rich foods', 'Ginger'...</td>\n",
       "    </tr>\n",
       "    <tr>\n",
       "      <th>6</th>\n",
       "      <td>AIDS</td>\n",
       "      <td>['Balanced Diet', 'Protein-rich foods', 'Fruit...</td>\n",
       "    </tr>\n",
       "    <tr>\n",
       "      <th>7</th>\n",
       "      <td>Diabetes</td>\n",
       "      <td>['Low-Glycemic Diet', 'Fiber-rich foods', 'Lea...</td>\n",
       "    </tr>\n",
       "    <tr>\n",
       "      <th>8</th>\n",
       "      <td>Gastroenteritis</td>\n",
       "      <td>['Bland Diet', 'Bananas', 'Rice', 'Applesauce'...</td>\n",
       "    </tr>\n",
       "    <tr>\n",
       "      <th>9</th>\n",
       "      <td>Bronchial Asthma</td>\n",
       "      <td>['Anti-Inflammatory Diet', 'Omega-3-rich foods...</td>\n",
       "    </tr>\n",
       "    <tr>\n",
       "      <th>10</th>\n",
       "      <td>Hypertension</td>\n",
       "      <td>['DASH Diet', 'Low-sodium foods', 'Fruits and ...</td>\n",
       "    </tr>\n",
       "    <tr>\n",
       "      <th>11</th>\n",
       "      <td>Migraine</td>\n",
       "      <td>['Migraine Diet', 'Low-Tyramine Diet', 'Caffei...</td>\n",
       "    </tr>\n",
       "    <tr>\n",
       "      <th>12</th>\n",
       "      <td>Cervical spondylosis</td>\n",
       "      <td>['Arthritis Diet', 'Anti-Inflammatory Diet', '...</td>\n",
       "    </tr>\n",
       "    <tr>\n",
       "      <th>13</th>\n",
       "      <td>Paralysis (brain hemorrhage)</td>\n",
       "      <td>['Heart-Healthy Diet', 'Low-sodium foods', 'Fr...</td>\n",
       "    </tr>\n",
       "    <tr>\n",
       "      <th>14</th>\n",
       "      <td>Jaundice</td>\n",
       "      <td>['Liver-Healthy Diet', 'Low-fat Diet', 'Fruits...</td>\n",
       "    </tr>\n",
       "    <tr>\n",
       "      <th>15</th>\n",
       "      <td>Malaria</td>\n",
       "      <td>['Malaria Diet', 'Hydration', 'High-Calorie Di...</td>\n",
       "    </tr>\n",
       "    <tr>\n",
       "      <th>16</th>\n",
       "      <td>Chicken pox</td>\n",
       "      <td>['Chicken Pox Diet', 'High-Calorie Diet', 'Sof...</td>\n",
       "    </tr>\n",
       "    <tr>\n",
       "      <th>17</th>\n",
       "      <td>Dengue</td>\n",
       "      <td>['Dengue Diet', 'Hydration', 'High-Calorie Die...</td>\n",
       "    </tr>\n",
       "    <tr>\n",
       "      <th>18</th>\n",
       "      <td>Typhoid</td>\n",
       "      <td>['Typhoid Diet', 'High-Calorie Diet', 'Soft an...</td>\n",
       "    </tr>\n",
       "    <tr>\n",
       "      <th>19</th>\n",
       "      <td>hepatitis A</td>\n",
       "      <td>['Hepatitis A Diet', 'High-Calorie Diet', 'Sof...</td>\n",
       "    </tr>\n",
       "    <tr>\n",
       "      <th>20</th>\n",
       "      <td>Hepatitis B</td>\n",
       "      <td>['Hepatitis B Diet', 'High-Calorie Diet', 'Sof...</td>\n",
       "    </tr>\n",
       "    <tr>\n",
       "      <th>21</th>\n",
       "      <td>Hepatitis C</td>\n",
       "      <td>['Hepatitis C Diet', 'High-Calorie Diet', 'Sof...</td>\n",
       "    </tr>\n",
       "    <tr>\n",
       "      <th>22</th>\n",
       "      <td>Hepatitis D</td>\n",
       "      <td>['Hepatitis D Diet', 'High-Calorie Diet', 'Sof...</td>\n",
       "    </tr>\n",
       "    <tr>\n",
       "      <th>23</th>\n",
       "      <td>Hepatitis E</td>\n",
       "      <td>['Hepatitis E Diet', 'High-Calorie Diet', 'Sof...</td>\n",
       "    </tr>\n",
       "    <tr>\n",
       "      <th>24</th>\n",
       "      <td>Alcoholic hepatitis</td>\n",
       "      <td>['Liver-Healthy Diet', 'Low-fat Diet', 'Fruits...</td>\n",
       "    </tr>\n",
       "    <tr>\n",
       "      <th>25</th>\n",
       "      <td>Tuberculosis</td>\n",
       "      <td>['TB Diet', 'High-Calorie Diet', 'Soft and bla...</td>\n",
       "    </tr>\n",
       "    <tr>\n",
       "      <th>26</th>\n",
       "      <td>Common Cold</td>\n",
       "      <td>['Cold Diet', 'Hydration', 'Warm fluids', 'Res...</td>\n",
       "    </tr>\n",
       "    <tr>\n",
       "      <th>27</th>\n",
       "      <td>Pneumonia</td>\n",
       "      <td>['Pneumonia Diet', 'High-Calorie Diet', 'Soft ...</td>\n",
       "    </tr>\n",
       "    <tr>\n",
       "      <th>28</th>\n",
       "      <td>Dimorphic hemmorhoids(piles)</td>\n",
       "      <td>['Hemorrhoids Diet', 'High-Fiber Diet', 'Hydra...</td>\n",
       "    </tr>\n",
       "    <tr>\n",
       "      <th>29</th>\n",
       "      <td>Heart attack</td>\n",
       "      <td>['Heart-Healthy Diet', 'Low-sodium foods', 'Fr...</td>\n",
       "    </tr>\n",
       "    <tr>\n",
       "      <th>30</th>\n",
       "      <td>Varicose veins</td>\n",
       "      <td>['Varicose Veins Diet', 'High-Fiber Diet', 'Fr...</td>\n",
       "    </tr>\n",
       "    <tr>\n",
       "      <th>31</th>\n",
       "      <td>Hypothyroidism</td>\n",
       "      <td>['Hypothyroidism Diet', 'Iodine-rich foods', '...</td>\n",
       "    </tr>\n",
       "    <tr>\n",
       "      <th>32</th>\n",
       "      <td>Hyperthyroidism</td>\n",
       "      <td>['Hyperthyroidism Diet', 'Low-Iodine Diet', 'C...</td>\n",
       "    </tr>\n",
       "    <tr>\n",
       "      <th>33</th>\n",
       "      <td>Hypoglycemia</td>\n",
       "      <td>['Hypoglycemia Diet', 'Complex carbohydrates',...</td>\n",
       "    </tr>\n",
       "    <tr>\n",
       "      <th>34</th>\n",
       "      <td>Osteoarthristis</td>\n",
       "      <td>['Arthritis Diet', 'Anti-Inflammatory Diet', '...</td>\n",
       "    </tr>\n",
       "    <tr>\n",
       "      <th>35</th>\n",
       "      <td>Arthritis</td>\n",
       "      <td>['Arthritis Diet', 'Anti-Inflammatory Diet', '...</td>\n",
       "    </tr>\n",
       "    <tr>\n",
       "      <th>36</th>\n",
       "      <td>(vertigo) Paroymsal Positional Vertigo</td>\n",
       "      <td>['Vertigo Diet', 'Low-Salt Diet', 'Hydration',...</td>\n",
       "    </tr>\n",
       "    <tr>\n",
       "      <th>37</th>\n",
       "      <td>Acne</td>\n",
       "      <td>['Acne Diet', 'Low-Glycemic Diet', 'Hydration'...</td>\n",
       "    </tr>\n",
       "    <tr>\n",
       "      <th>38</th>\n",
       "      <td>Urinary tract infection</td>\n",
       "      <td>['UTI Diet', 'Hydration', 'Cranberry juice', '...</td>\n",
       "    </tr>\n",
       "    <tr>\n",
       "      <th>39</th>\n",
       "      <td>Psoriasis</td>\n",
       "      <td>['Psoriasis Diet', 'Anti-Inflammatory Diet', '...</td>\n",
       "    </tr>\n",
       "    <tr>\n",
       "      <th>40</th>\n",
       "      <td>Impetigo</td>\n",
       "      <td>['Impetigo Diet', 'Antibiotic treatment', 'Fru...</td>\n",
       "    </tr>\n",
       "  </tbody>\n",
       "</table>\n",
       "</div>"
      ],
      "text/plain": [
       "                                   Disease  \\\n",
       "0                         Fungal infection   \n",
       "1                                  Allergy   \n",
       "2                                     GERD   \n",
       "3                      Chronic cholestasis   \n",
       "4                            Drug Reaction   \n",
       "5                     Peptic ulcer disease   \n",
       "6                                     AIDS   \n",
       "7                                 Diabetes   \n",
       "8                          Gastroenteritis   \n",
       "9                         Bronchial Asthma   \n",
       "10                            Hypertension   \n",
       "11                                Migraine   \n",
       "12                    Cervical spondylosis   \n",
       "13            Paralysis (brain hemorrhage)   \n",
       "14                                Jaundice   \n",
       "15                                 Malaria   \n",
       "16                             Chicken pox   \n",
       "17                                  Dengue   \n",
       "18                                 Typhoid   \n",
       "19                             hepatitis A   \n",
       "20                             Hepatitis B   \n",
       "21                             Hepatitis C   \n",
       "22                             Hepatitis D   \n",
       "23                             Hepatitis E   \n",
       "24                     Alcoholic hepatitis   \n",
       "25                            Tuberculosis   \n",
       "26                             Common Cold   \n",
       "27                               Pneumonia   \n",
       "28            Dimorphic hemmorhoids(piles)   \n",
       "29                            Heart attack   \n",
       "30                          Varicose veins   \n",
       "31                          Hypothyroidism   \n",
       "32                         Hyperthyroidism   \n",
       "33                            Hypoglycemia   \n",
       "34                         Osteoarthristis   \n",
       "35                               Arthritis   \n",
       "36  (vertigo) Paroymsal Positional Vertigo   \n",
       "37                                    Acne   \n",
       "38                 Urinary tract infection   \n",
       "39                               Psoriasis   \n",
       "40                                Impetigo   \n",
       "\n",
       "                                                 Diet  \n",
       "0   ['Antifungal Diet', 'Probiotics', 'Garlic', 'C...  \n",
       "1   ['Elimination Diet', 'Omega-3-rich foods', 'Vi...  \n",
       "2   ['Low-Acid Diet', 'Fiber-rich foods', 'Ginger'...  \n",
       "3   ['Low-Fat Diet', 'High-Fiber Diet', 'Lean prot...  \n",
       "4   ['Antihistamine Diet', 'Omega-3-rich foods', '...  \n",
       "5   ['Low-Acid Diet', 'Fiber-rich foods', 'Ginger'...  \n",
       "6   ['Balanced Diet', 'Protein-rich foods', 'Fruit...  \n",
       "7   ['Low-Glycemic Diet', 'Fiber-rich foods', 'Lea...  \n",
       "8   ['Bland Diet', 'Bananas', 'Rice', 'Applesauce'...  \n",
       "9   ['Anti-Inflammatory Diet', 'Omega-3-rich foods...  \n",
       "10  ['DASH Diet', 'Low-sodium foods', 'Fruits and ...  \n",
       "11  ['Migraine Diet', 'Low-Tyramine Diet', 'Caffei...  \n",
       "12  ['Arthritis Diet', 'Anti-Inflammatory Diet', '...  \n",
       "13  ['Heart-Healthy Diet', 'Low-sodium foods', 'Fr...  \n",
       "14  ['Liver-Healthy Diet', 'Low-fat Diet', 'Fruits...  \n",
       "15  ['Malaria Diet', 'Hydration', 'High-Calorie Di...  \n",
       "16  ['Chicken Pox Diet', 'High-Calorie Diet', 'Sof...  \n",
       "17  ['Dengue Diet', 'Hydration', 'High-Calorie Die...  \n",
       "18  ['Typhoid Diet', 'High-Calorie Diet', 'Soft an...  \n",
       "19  ['Hepatitis A Diet', 'High-Calorie Diet', 'Sof...  \n",
       "20  ['Hepatitis B Diet', 'High-Calorie Diet', 'Sof...  \n",
       "21  ['Hepatitis C Diet', 'High-Calorie Diet', 'Sof...  \n",
       "22  ['Hepatitis D Diet', 'High-Calorie Diet', 'Sof...  \n",
       "23  ['Hepatitis E Diet', 'High-Calorie Diet', 'Sof...  \n",
       "24  ['Liver-Healthy Diet', 'Low-fat Diet', 'Fruits...  \n",
       "25  ['TB Diet', 'High-Calorie Diet', 'Soft and bla...  \n",
       "26  ['Cold Diet', 'Hydration', 'Warm fluids', 'Res...  \n",
       "27  ['Pneumonia Diet', 'High-Calorie Diet', 'Soft ...  \n",
       "28  ['Hemorrhoids Diet', 'High-Fiber Diet', 'Hydra...  \n",
       "29  ['Heart-Healthy Diet', 'Low-sodium foods', 'Fr...  \n",
       "30  ['Varicose Veins Diet', 'High-Fiber Diet', 'Fr...  \n",
       "31  ['Hypothyroidism Diet', 'Iodine-rich foods', '...  \n",
       "32  ['Hyperthyroidism Diet', 'Low-Iodine Diet', 'C...  \n",
       "33  ['Hypoglycemia Diet', 'Complex carbohydrates',...  \n",
       "34  ['Arthritis Diet', 'Anti-Inflammatory Diet', '...  \n",
       "35  ['Arthritis Diet', 'Anti-Inflammatory Diet', '...  \n",
       "36  ['Vertigo Diet', 'Low-Salt Diet', 'Hydration',...  \n",
       "37  ['Acne Diet', 'Low-Glycemic Diet', 'Hydration'...  \n",
       "38  ['UTI Diet', 'Hydration', 'Cranberry juice', '...  \n",
       "39  ['Psoriasis Diet', 'Anti-Inflammatory Diet', '...  \n",
       "40  ['Impetigo Diet', 'Antibiotic treatment', 'Fru...  "
      ]
     },
     "execution_count": 70,
     "metadata": {},
     "output_type": "execute_result"
    }
   ],
   "source": [
    "diet"
   ]
  },
  {
   "cell_type": "code",
   "execution_count": 103,
   "id": "f1a09998",
   "metadata": {},
   "outputs": [],
   "source": [
    "#============================================================\n",
    "# custome and helping functions\n",
    "#==========================helper funtions================\n",
    "def helper(dis):\n",
    "    desc = description[description['Disease'] == dis]['Description'].tolist()\n",
    "    pre = precautions[precautions['Disease'] == dis][['Precaution_1', 'Precaution_2', 'Precaution_3', 'Precaution_4']].values.tolist()\n",
    "    med = medications[medications['Disease'] == dis]['Medication'].tolist()\n",
    "    die = diets[diets['Disease'] == dis]['Diet'].tolist()\n",
    "    wrkout = workout[workout['disease'] == dis]['workout'].tolist()\n",
    "\n",
    "    return desc, pre, med, die, wrkout\n",
    "\n",
    "symptoms_dict = {'itching': 0, 'skin_rash': 1, 'nodal_skin_eruptions': 2, 'continuous_sneezing': 3, 'shivering': 4, 'chills': 5, 'joint_pain': 6, 'stomach_pain': 7, 'acidity': 8, 'ulcers_on_tongue': 9, 'muscle_wasting': 10, 'vomiting': 11, 'burning_micturition': 12, 'spotting_ urination': 13, 'fatigue': 14, 'weight_gain': 15, 'anxiety': 16, 'cold_hands_and_feets': 17, 'mood_swings': 18, 'weight_loss': 19, 'restlessness': 20, 'lethargy': 21, 'patches_in_throat': 22, 'irregular_sugar_level': 23, 'cough': 24, 'high_fever': 25, 'sunken_eyes': 26, 'breathlessness': 27, 'sweating': 28, 'dehydration': 29, 'indigestion': 30, 'headache': 31, 'yellowish_skin': 32, 'dark_urine': 33, 'nausea': 34, 'loss_of_appetite': 35, 'pain_behind_the_eyes': 36, 'back_pain': 37, 'constipation': 38, 'abdominal_pain': 39, 'diarrhoea': 40, 'mild_fever': 41, 'yellow_urine': 42, 'yellowing_of_eyes': 43, 'acute_liver_failure': 44, 'fluid_overload': 45, 'swelling_of_stomach': 46, 'swelled_lymph_nodes': 47, 'malaise': 48, 'blurred_and_distorted_vision': 49, 'phlegm': 50, 'throat_irritation': 51, 'redness_of_eyes': 52, 'sinus_pressure': 53, 'runny_nose': 54, 'congestion': 55, 'chest_pain': 56, 'weakness_in_limbs': 57, 'fast_heart_rate': 58, 'pain_during_bowel_movements': 59, 'pain_in_anal_region': 60, 'bloody_stool': 61, 'irritation_in_anus': 62, 'neck_pain': 63, 'dizziness': 64, 'cramps': 65, 'bruising': 66, 'obesity': 67, 'swollen_legs': 68, 'swollen_blood_vessels': 69, 'puffy_face_and_eyes': 70, 'enlarged_thyroid': 71, 'brittle_nails': 72, 'swollen_extremeties': 73, 'excessive_hunger': 74, 'extra_marital_contacts': 75, 'drying_and_tingling_lips': 76, 'slurred_speech': 77, 'knee_pain': 78, 'hip_joint_pain': 79, 'muscle_weakness': 80, 'stiff_neck': 81, 'swelling_joints': 82, 'movement_stiffness': 83, 'spinning_movements': 84, 'loss_of_balance': 85, 'unsteadiness': 86, 'weakness_of_one_body_side': 87, 'loss_of_smell': 88, 'bladder_discomfort': 89, 'foul_smell_of urine': 90, 'continuous_feel_of_urine': 91, 'passage_of_gases': 92, 'internal_itching': 93, 'toxic_look_(typhos)': 94, 'depression': 95, 'irritability': 96, 'muscle_pain': 97, 'altered_sensorium': 98, 'red_spots_over_body': 99, 'belly_pain': 100, 'abnormal_menstruation': 101, 'dischromic _patches': 102, 'watering_from_eyes': 103, 'increased_appetite': 104, 'polyuria': 105, 'family_history': 106, 'mucoid_sputum': 107, 'rusty_sputum': 108, 'lack_of_concentration': 109, 'visual_disturbances': 110, 'receiving_blood_transfusion': 111, 'receiving_unsterile_injections': 112, 'coma': 113, 'stomach_bleeding': 114, 'distention_of_abdomen': 115, 'history_of_alcohol_consumption': 116, 'fluid_overload.1': 117, 'blood_in_sputum': 118, 'prominent_veins_on_calf': 119, 'palpitations': 120, 'painful_walking': 121, 'pus_filled_pimples': 122, 'blackheads': 123, 'scurring': 124, 'skin_peeling': 125, 'silver_like_dusting': 126, 'small_dents_in_nails': 127, 'inflammatory_nails': 128, 'blister': 129, 'red_sore_around_nose': 130, 'yellow_crust_ooze': 131}\n",
    "diseases_list = {15: 'Fungal infection', 4: 'Allergy', 16: 'GERD', 9: 'Chronic cholestasis', 14: 'Drug Reaction', 33: 'Peptic ulcer diseae', 1: 'AIDS', 12: 'Diabetes ', 17: 'Gastroenteritis', 6: 'Bronchial Asthma', 23: 'Hypertension ', 30: 'Migraine', 7: 'Cervical spondylosis', 32: 'Paralysis (brain hemorrhage)', 28: 'Jaundice', 29: 'Malaria', 8: 'Chicken pox', 11: 'Dengue', 37: 'Typhoid', 40: 'hepatitis A', 19: 'Hepatitis B', 20: 'Hepatitis C', 21: 'Hepatitis D', 22: 'Hepatitis E', 3: 'Alcoholic hepatitis', 36: 'Tuberculosis', 10: 'Common Cold', 34: 'Pneumonia', 13: 'Dimorphic hemmorhoids(piles)', 18: 'Heart attack', 39: 'Varicose veins', 26: 'Hypothyroidism', 24: 'Hyperthyroidism', 25: 'Hypoglycemia', 31: 'Osteoarthristis', 5: 'Arthritis', 0: '(vertigo) Paroymsal  Positional Vertigo', 2: 'Acne', 38: 'Urinary tract infection', 35: 'Psoriasis', 27: 'Impetigo'}\n",
    "\n",
    "# Model Prediction function\n",
    "def get_predicted_value(patient_symptoms):\n",
    "    input_vector = np.zeros(len(symptoms_dict))\n",
    "    for item in patient_symptoms:\n",
    "        input_vector[symptoms_dict[item]] = 1\n",
    "    return diseases_list[svc.predict([input_vector])[0]]"
   ]
  },
  {
   "cell_type": "code",
   "execution_count": 114,
   "id": "362c7dbb",
   "metadata": {},
   "outputs": [
    {
     "name": "stdout",
     "output_type": "stream",
     "text": [
      "Enter your symptoms (comma-separated): vomiting, burning_micturition \n",
      "\n",
      "================= Predicted Disease ============\n",
      "Gastroenteritis\n",
      "\n",
      "================= Description ==================\n",
      "Gastroenteritis is an inflammation of the stomach and intestines, typically caused by a virus or bacteria.\n",
      "\n",
      "================= Precautions ==================\n",
      "1: stop eating solid food for while\n",
      "2: try taking small sips of water\n",
      "3: rest\n",
      "4: ease back into eating\n",
      "\n",
      "================= Medications ==================\n",
      "1: ['Antibiotics', 'Antiemetic drugs', 'Antidiarrheal drugs', 'IV fluids', 'Probiotics']\n",
      "\n",
      "================= Workout ==================\n",
      "1: Stay hydrated\n",
      "2: Consume clear fluids\n",
      "3: Follow the BRAT diet (bananas, rice, applesauce, toast)\n",
      "4: Include bland foods\n",
      "5: Avoid fatty and greasy foods\n",
      "6: Limit caffeine and alcohol\n",
      "7: Avoid spicy foods\n",
      "8: Consult a healthcare professional\n",
      "9: Gradually reintroduce solid foods\n",
      "10: Avoid dairy products\n",
      "\n",
      "================= Diets ==================\n",
      "1: ['Bland Diet', 'Bananas', 'Rice', 'Applesauce', 'Toast']\n"
     ]
    },
    {
     "name": "stderr",
     "output_type": "stream",
     "text": [
      "/opt/anaconda3/lib/python3.8/site-packages/sklearn/base.py:450: UserWarning: X does not have valid feature names, but SVC was fitted with feature names\n",
      "  warnings.warn(\n"
     ]
    }
   ],
   "source": [
    "from fuzzywuzzy import process\n",
    "\n",
    "# Dictionary of valid symptoms\n",
    "valid_symptoms = list(symptoms_dict.keys())\n",
    "\n",
    "# Fuzzy match function\n",
    "def correct_symptom(user_symptom, threshold=80):\n",
    "    match, score = process.extractOne(user_symptom, valid_symptoms)\n",
    "    return match if score >= threshold else None\n",
    "\n",
    "# Get user input\n",
    "symptoms = input(\"Enter your symptoms (comma-separated): \")\n",
    "user_symptoms = [s.strip().replace(\" \", \"_\") for s in symptoms.split(',')]\n",
    "\n",
    "# Correct spelling using fuzzy matching\n",
    "corrected_symptoms = []\n",
    "for sym in user_symptoms:\n",
    "    corrected = correct_symptom(sym)\n",
    "    if corrected:\n",
    "        corrected_symptoms.append(corrected)\n",
    "    else:\n",
    "        print(f\"❌ Unknown or unrecognized symptom: {sym}\")\n",
    "\n",
    "# Check if we have enough valid symptoms\n",
    "if not corrected_symptoms:\n",
    "    print(\"No valid symptoms provided. Please try again.\")\n",
    "else:\n",
    "    predicted_disease = get_predicted_value(corrected_symptoms)\n",
    "    desc, pre, med, die, wrkout = helper(predicted_disease)\n",
    "\n",
    "    print(\"\\n================= Predicted Disease ============\")\n",
    "    print(predicted_disease)\n",
    "\n",
    "    print(\"\\n================= Description ==================\")\n",
    "    print(desc[0] if desc else \"No description available.\")\n",
    "\n",
    "    print(\"\\n================= Precautions ==================\")\n",
    "    for i, p_i in enumerate(pre[0], 1):\n",
    "        print(f\"{i}: {p_i}\")\n",
    "\n",
    "    print(\"\\n================= Medications ==================\")\n",
    "    for i, m_i in enumerate(med, 1):\n",
    "        print(f\"{i}: {m_i}\")\n",
    "\n",
    "    print(\"\\n================= Workout ==================\")\n",
    "    for i, w_i in enumerate(wrkout, 1):\n",
    "        print(f\"{i}: {w_i}\")\n",
    "\n",
    "    print(\"\\n================= Diets ==================\")\n",
    "    for i, d_i in enumerate(die, 1):\n",
    "        print(f\"{i}: {d_i}\")\n"
   ]
  },
  {
   "cell_type": "code",
   "execution_count": 115,
   "id": "527cfaff",
   "metadata": {},
   "outputs": [
    {
     "name": "stdout",
     "output_type": "stream",
     "text": [
      "1.0.2\n"
     ]
    }
   ],
   "source": [
    "import sklearn\n",
    "print(sklearn.__version__)"
   ]
  },
  {
   "cell_type": "code",
   "execution_count": null,
   "id": "c9021bbe",
   "metadata": {},
   "outputs": [],
   "source": []
  }
 ],
 "metadata": {
  "kernelspec": {
   "display_name": "Python 3 (ipykernel)",
   "language": "python",
   "name": "python3"
  },
  "language_info": {
   "codemirror_mode": {
    "name": "ipython",
    "version": 3
   },
   "file_extension": ".py",
   "mimetype": "text/x-python",
   "name": "python",
   "nbconvert_exporter": "python",
   "pygments_lexer": "ipython3",
   "version": "3.8.13"
  }
 },
 "nbformat": 4,
 "nbformat_minor": 5
}
